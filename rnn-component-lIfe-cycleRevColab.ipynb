{
  "nbformat": 4,
  "nbformat_minor": 0,
  "metadata": {
    "colab": {
      "provenance": [],
      "authorship_tag": "ABX9TyMLsBLNHqxjLQuCyfpqTB+s",
      "include_colab_link": true
    },
    "kernelspec": {
      "name": "python3",
      "display_name": "Python 3"
    },
    "language_info": {
      "name": "python"
    }
  },
  "cells": [
    {
      "cell_type": "markdown",
      "metadata": {
        "id": "view-in-github",
        "colab_type": "text"
      },
      "source": [
        "<a href=\"https://colab.research.google.com/github/CidClayQuirino/rnn-component-lIfe-cycle/blob/main/rnn-component-lIfe-cycleRevColab.ipynb\" target=\"_parent\"><img src=\"https://colab.research.google.com/assets/colab-badge.svg\" alt=\"Open In Colab\"/></a>"
      ]
    },
    {
      "cell_type": "markdown",
      "source": [
        "**Title: \"TCC_USP ESALQ 25_01_2024\"\n",
        "Author: \"Cid Clay Quirino\"\n",
        "Date: \"2024-01-25\"**\n",
        "\n",
        "\n",
        "Instalaçao de pacotes"
      ],
      "metadata": {
        "id": "-Oauv_Ubh_2H"
      }
    },
    {
      "cell_type": "code",
      "execution_count": 14,
      "metadata": {
        "id": "B_YyXAwShuZN"
      },
      "outputs": [],
      "source": [
        "import numpy as np\n",
        "np.random.seed(1)\n",
        "\n",
        "# Atualizar pacotes\n",
        "import subprocess\n",
        "subprocess.run([\"pip\", \"install\", \"--upgrade\", \"pip\"])\n",
        "subprocess.run([\"pip\", \"install\", \"--upgrade\", \"rpy2\"])\n",
        "\n",
        "# Instalar pacotes\n",
        "pacotes = [\"rpy2\", \"rattle\", \"rnn\", \"ggplot2\", \"dplyr\", \"tidyverse\", \"readxl\", \"knitr\", \"lubridate\",\n",
        "           \"tidyr\", \"reshape\", \"scales\", \"caret\", \"tools\", \"tinytex\", \"tensorflow\", \"keras\"]\n"
      ]
    },
    {
      "cell_type": "markdown",
      "source": [
        "# Component Life Projection Based on a Deep Learning Model for Mobile Mining Equipment\n",
        "\n",
        "## 1.0 Introduction\n",
        "\n",
        "Manufacturers and dealers around the world, are constantly approached by customers about how to consistently achieve best resulting in anticipation of component failures. One way to move forward on this issue is using the condition monitoring process output. In certain mining assets components (Ex: Diesel Engines/Transmission and major components) used in mobile equipment models this measurement can be done directly through “Electronic System” from online monitoring system data or from telemetry.\n",
        "\n",
        "In these cases, components have highly predictability parameters, but in other type of components like Cylinders, Pumps and minor components is not possible detect failures in fact from this path mainly due a few strong parameters to monitor.   \n",
        "\n",
        "Hence the CMMS (Conditions Monitoring Management System) needs to be improved using  other practices to evaluate any changes in component behavior and acting before failure. On the other hand, engineering team need to be care to not have a high investment in comparison to cost saving. Some mining customer in the north of Brazil is seeing a good results applying the best practice developed jointly by Dealer – monitoring the behavior of cylinder parameters to prevent unplanned failure and reducing asset downtime.\n",
        "\n",
        "This study intend the importance of this best practices, and wants improve this solution using Artificial Intelligence (AI) and Neural Network to get data directly from a sender installer on this minor components to detect very early any changes on temperature and vibration.\n",
        "\n",
        "\n",
        "## 2.0 Project Description\n",
        "\n",
        "### 2.1 Old insight (manual data collection/analysis)\n",
        "\n",
        "\n",
        "This best practice is part of Hydro’s and Sotreq’s effort to improve the monitoring and troubleshooting process for cylinders based on real case of CMMS - Condition Monitoring Management System application.\n",
        "\n",
        "The development of alternative monitoring/troubleshooting was based on the customer’s need to reduce time to fix and improve the fleet availability/productivity.  \n",
        "\n",
        "Thermography, along with other operational tests, provided the means to monitor and provide detection capabilities before catastrofic failure and helped define future intervention in the HEX, based on the HEX monitoring of component in tool cylinder of a 390F.\n",
        "\n",
        "\n",
        "Basic Operation:  \n",
        "\n",
        "There is literature that discribes the operational verification (KENR9995-07), cylinder drop - verification - empty bucket (KENR9995-00)\"and cycle speed - verification (KENR9995-02) to evaluate the lifting cylinders of the boom.\n",
        "\n",
        "\n",
        "Figure 1.  Fluid Temperature\n",
        "![Figure 1.  Fluid Temperature](D:/RNN_Sensor Dynamox/Git Repositório/rnn-component-lIfe-cycle/Figure 1.  Fluid Temperature.png)\n",
        "\n",
        "The equipment was positioned to perform the cylinder drop test (Figure 2), and the boom lift cylinder was measured from the rod fixing pin to the cylinder liner fixing pin, and after 5 minutes with the engine off, no displacement of the cylinder rod was identified through the measurement (the cylinders kept the same measurements).\n",
        "\n",
        "\n",
        "\n",
        "Figure 2. Position of the drop test equipment\n",
        "![Figure 2. Imagem Escavadeira Hydro Hidraulico Antes Falha](D:/RNN_Sensor Dynamox/Git Repositório/rnn-component-lIfe-cycle/Imagem Escavadeira Hydro Hidraulico Antes Falha.png)\n",
        "Before performing the cycle speed test, the pump relief pressures were checked for the boom lift function, and found 5206 psi for the 01# pump and 5173 psi for the 02# pump (Figure 3).\n",
        "\n",
        "\n",
        "Figure 3  - Pump Pressure Test\n",
        "![Figure 3. Pump Pressure](D:/RNN_Sensor Dynamox/Git Repositório/rnn-component-lIfe-cycle/Figure 3. Pump Pressure.png)\n",
        "\n",
        "Note: The pressures were a little above the specified, but not enough to change the test result.\n",
        "\n",
        "The machine implement was positioned as oriented by CAT literature to perform the cylinder cycle speed test and the cylinder cycle time from soil to fully extended rod position, and ir was collected  7.26 seconds.\n",
        "\n",
        "The cylinder speed procedure specifies a time of 5.8 ± 0.5 for a new cylinder, a maximum of 7.5 seconds for reconditioning the cylinder and a maximum of 8.7 seconds for service limit for the boom cylinder (Figure 05).\n",
        "\n",
        "\n",
        "Figure 4  - Pump Pressure Test\n",
        "![Figure 4  - Pump Pressure Test](D:/RNN_Sensor Dynamox/Git Repositório/rnn-component-lIfe-cycle/Figure 4  - Pump Pressure Test.png)\n",
        "\n",
        "\n",
        "The procedure for setting the cycle time defined in Troubleshooting CAT was carried out, and the lifting time specified by the lower operation and maintenance manual was detected.\n",
        "\n",
        "After finishing the cycle time and pressure tests, the thermography test was performed, with the aid of the thermographic camera, so that the differential temperature of the cylinders was recorded.\n",
        "\n",
        "Using thermography on the EH3201, a thermal differential was identified in the boom cylinder on the right side, as can be seen in Figure 6a with a temperature differential of 4.7°C in relation to the left side.\n",
        "\n",
        "Figure 5a. Thermography on the EH3201 Lift Cylinders\n",
        "\n",
        "![Figure 5a. Thermography on the EH3201 Lift Cylinders](D:/RNN_Sensor Dynamox/Git Repositório/rnn-component-lIfe-cycle/Figure 5a. Thermography on the EH3201 Lift Cylinders.png)\n",
        "\n",
        "Figure 5b. EH3201 on the operation front being inspected by predictive team\n",
        "\n",
        "![Figure 5b. EH3201 on the operation front being inspected by predictive team](D:/RNN_Sensor Dynamox/Git Repositório/rnn-component-lIfe-cycle/Figure 5b. EH3201 on the operation front being inspected by predictive team.png)\n",
        "The hottest points of the cylinders were captured by the camera and it was observed that the lifting cylinder l/d of the boom has a temperature of 5° c above the lifting cylinder l/e (Figure 7).\n",
        "\n",
        "Figure 6.  Thermographic image indicating a 5° c difference between the hottest points of the boom lift cylinders\n",
        "\n",
        "![Figure 6.  Thermographic image indicating a 5° c difference between the hottest points of the boom lift cylinders](D:/RNN_Sensor Dynamox/Git Repositório/rnn-component-lIfe-cycle/Figure 6.  Thermographic image indicating a 5° c difference between the hottest points of the boom lift cylinders.png)\n",
        "\n",
        "\n",
        "The CRC evaluation of the cylinder allowed us to relate the field symptoms and conclude that the thermographic method can be used to define with more assurance that the cylinder needed to be removed.\n",
        "\n",
        "\n",
        "Figure 8.  Cyclinder at the CRC\n",
        "![Figure 8.  Cyclinder at the CRC](D:/RNN_Sensor Dynamox/Git Repositório/rnn-component-lIfe-cycle/Figure 8.  Cyclinder at the CRC.png)\n",
        "\n",
        "Next image shows some important details after disassembling the cylinder in remanufacture center, and evaluated internally evidences, confirm the relation from cylinder failure mode presented in field and causes after disassembled. See bellow that the failure mode presented in Figure 9, represent the cause os temperature increase in field termografic process.\n",
        "\n",
        "Figure 8a.  Images of disassemlbed cylinder at CRC 1\n",
        "![Figure 8a.  Images of disassemlbed cylinder at CRC 1](D:/RNN_Sensor Dynamox/Git Repositório/rnn-component-lIfe-cycle/Figure 9.  Images of disassemlbed cylinder at CRC 1.png)\n",
        "\n",
        "Figure 8b.  Images of disassemlbed cylinder at CRC 2\n",
        "![Figure 8b.  Images of disassemlbed cylinder at CRC 2](D:/RNN_Sensor Dynamox/Git Repositório/rnn-component-lIfe-cycle/Figure 9.  Images of disassemlbed cylinder at CRC 2.png)\n",
        "\n",
        "Figure 8c.  Images of disassemlbed cylinder at CRC 3\n",
        "![Figure 8c.  Images of disassemlbed cylinder at CRC 3](D:/RNN_Sensor Dynamox/Git Repositório/rnn-component-lIfe-cycle/Figure 9.  Images of disassemlbed cylinder at CRC 3.png)\n",
        "\n",
        "\n",
        "## 3.0 New Application Using Deep Learning and Online Data Colection\n",
        "\n",
        "\n",
        "Based on this study, it was possible see the effectiveness of using this process to indicate possible internal oil leakage by the cylinder seal assembly. The Re manufacturing Center confirmed the issues with with cylinder.  Removing the cylinder based on the thermography along with the other tests was shown to be the proper course of action.\n",
        "\n",
        "\n",
        "Figure 7a. New application on Major Mining Excavator\n",
        "![Figure 7a. New application on Major Mining Excavator](D:/RNN_Sensor Dynamox/Git Repositório/rnn-component-lIfe-cycle/Figure 7a. New application on Major Mining Escavator.png)\n",
        "\n",
        "\n",
        "### 3.1 Project esquematic\n",
        "\n",
        "\n",
        "\n",
        "### 3.2\tImplementation Steps\n",
        "\n",
        "Figure 7.  Project Datra Collection on CAT 6030\n",
        "\n",
        "![Figure 7.  Project Datra Collection on CAT 6030](D:/RNN_Sensor Dynamox/Git Repositório/rnn-component-lIfe-cycle/Figure 7.  Project Datra Collection on CAT 6030.png)\n",
        "\n"
      ],
      "metadata": {
        "id": "cMljn21MiRue"
      }
    },
    {
      "cell_type": "code",
      "source": [
        "pip install pandas xlrd"
      ],
      "metadata": {
        "colab": {
          "base_uri": "https://localhost:8080/"
        },
        "id": "YClNxoLlndMD",
        "outputId": "065e5a15-68bd-4e67-b086-23cd5e133e77"
      },
      "execution_count": 15,
      "outputs": [
        {
          "output_type": "stream",
          "name": "stdout",
          "text": [
            "Requirement already satisfied: pandas in /usr/local/lib/python3.10/dist-packages (1.5.3)\n",
            "Requirement already satisfied: xlrd in /usr/local/lib/python3.10/dist-packages (2.0.1)\n",
            "Requirement already satisfied: python-dateutil>=2.8.1 in /usr/local/lib/python3.10/dist-packages (from pandas) (2.8.2)\n",
            "Requirement already satisfied: pytz>=2020.1 in /usr/local/lib/python3.10/dist-packages (from pandas) (2023.4)\n",
            "Requirement already satisfied: numpy>=1.21.0 in /usr/local/lib/python3.10/dist-packages (from pandas) (1.23.5)\n",
            "Requirement already satisfied: six>=1.5 in /usr/local/lib/python3.10/dist-packages (from python-dateutil>=2.8.1->pandas) (1.16.0)\n",
            "\u001b[33mWARNING: Running pip as the 'root' user can result in broken permissions and conflicting behaviour with the system package manager. It is recommended to use a virtual environment instead: https://pip.pypa.io/warnings/venv\u001b[0m\u001b[33m\n",
            "\u001b[0m"
          ]
        }
      ]
    },
    {
      "cell_type": "code",
      "source": [
        "import os\n",
        "import pandas as pd\n",
        "from datetime import datetime"
      ],
      "metadata": {
        "id": "BQGJGA8Dyk4-"
      },
      "execution_count": 23,
      "outputs": []
    },
    {
      "cell_type": "code",
      "source": [
        "!python3 -m pip show zipfile\n",
        "\n"
      ],
      "metadata": {
        "id": "Jc3GNYoCU298",
        "outputId": "4cd70ba9-ef3a-4b4b-a054-6d4128e84b0f",
        "colab": {
          "base_uri": "https://localhost:8080/"
        }
      },
      "execution_count": 31,
      "outputs": [
        {
          "output_type": "stream",
          "name": "stdout",
          "text": [
            "\u001b[33mWARNING: Package(s) not found: zipfile\u001b[0m\u001b[33m\n",
            "\u001b[0m"
          ]
        }
      ]
    },
    {
      "cell_type": "code",
      "source": [
        "# URL do repositório no GitHub\n",
        "repo_url = 'https://github.com/CidClayQuirino/rnn-component-lIfe-cycle/archive/main.zip'\n",
        "\n",
        "# Baixe e extraia o arquivo zip do repositório\n",
        "response = requests.get(repo_url)\n",
        "with zipfile.ZipFile(BytesIO(response.content)) as zip_file:\n",
        "    zip_file.extractall()\n",
        "\n",
        "# Diretório onde os arquivos .xlsx foram extraídos\n",
        "extracted_dir = 'rnn-component-lIfe-cycle-main'\n",
        "\n",
        "# Lista para armazenar os DataFrames de cada arquivo\n",
        "dataframes = []\n",
        "\n",
        "# Loop pelos arquivos no diretório extraído\n",
        "for arquivo in os.listdir(extracted_dir):\n",
        "    if arquivo.endswith('.xlsx'):\n",
        "        # Construa o caminho completo para o arquivo\n",
        "        caminho_completo = os.path.join(extracted_dir, arquivo)\n",
        "\n",
        "        # Leia o arquivo Excel e adicione-o à lista de DataFrames\n",
        "        df = pd.read_excel(caminho_completo)\n",
        "\n",
        "        # Adicione uma coluna 'TagComp' contendo o nome do arquivo sem a extensão\n",
        "        df['TagComp'] = os.path.splitext(arquivo)[0]\n",
        "\n",
        "        # Adicione o DataFrame à lista\n",
        "        dataframes.append(df)\n",
        "\n",
        "# Concatene todos os DataFrames em um único DataFrame\n",
        "BDadosRNN = pd.concat(dataframes, ignore_index=True)\n",
        "# Remova as linhas onde existem valores iguais a zero em qualquer coluna\n",
        "BDadosRNN = BDadosRNN[(BDadosRNN != 0).all(axis=1)]\n",
        "BDadosRNN['Value'] = BDadosRNN['Value'].round(1)\n",
        "BDadosRNN = BDadosRNN.drop(columns=['timestamp'])\n",
        "BDadosRNN = BDadosRNN.rename(columns={'Tag': 'Parametro'})\n",
        "\n",
        "print(BDadosRNN)"
      ],
      "metadata": {
        "colab": {
          "base_uri": "https://localhost:8080/",
          "height": 251
        },
        "id": "EQeI1fYWiN6q",
        "outputId": "d3a209da-69e2-455d-cce3-52f7e7c9307e"
      },
      "execution_count": 22,
      "outputs": [
        {
          "output_type": "error",
          "ename": "NameError",
          "evalue": "name 'ZipFile' is not defined",
          "traceback": [
            "\u001b[0;31m---------------------------------------------------------------------------\u001b[0m",
            "\u001b[0;31mNameError\u001b[0m                                 Traceback (most recent call last)",
            "\u001b[0;32m<ipython-input-22-e562de04c87d>\u001b[0m in \u001b[0;36m<cell line: 6>\u001b[0;34m()\u001b[0m\n\u001b[1;32m      4\u001b[0m \u001b[0;31m# Baixe e extraia o arquivo zip do repositório\u001b[0m\u001b[0;34m\u001b[0m\u001b[0;34m\u001b[0m\u001b[0m\n\u001b[1;32m      5\u001b[0m \u001b[0mresponse\u001b[0m \u001b[0;34m=\u001b[0m \u001b[0mrequests\u001b[0m\u001b[0;34m.\u001b[0m\u001b[0mget\u001b[0m\u001b[0;34m(\u001b[0m\u001b[0mrepo_url\u001b[0m\u001b[0;34m)\u001b[0m\u001b[0;34m\u001b[0m\u001b[0;34m\u001b[0m\u001b[0m\n\u001b[0;32m----> 6\u001b[0;31m \u001b[0;32mwith\u001b[0m \u001b[0mZipFile\u001b[0m\u001b[0;34m(\u001b[0m\u001b[0mBytesIO\u001b[0m\u001b[0;34m(\u001b[0m\u001b[0mresponse\u001b[0m\u001b[0;34m.\u001b[0m\u001b[0mcontent\u001b[0m\u001b[0;34m)\u001b[0m\u001b[0;34m)\u001b[0m \u001b[0;32mas\u001b[0m \u001b[0mzip_file\u001b[0m\u001b[0;34m:\u001b[0m\u001b[0;34m\u001b[0m\u001b[0;34m\u001b[0m\u001b[0m\n\u001b[0m\u001b[1;32m      7\u001b[0m     \u001b[0mzip_file\u001b[0m\u001b[0;34m.\u001b[0m\u001b[0mextractall\u001b[0m\u001b[0;34m(\u001b[0m\u001b[0;34m)\u001b[0m\u001b[0;34m\u001b[0m\u001b[0;34m\u001b[0m\u001b[0m\n\u001b[1;32m      8\u001b[0m \u001b[0;34m\u001b[0m\u001b[0m\n",
            "\u001b[0;31mNameError\u001b[0m: name 'ZipFile' is not defined"
          ]
        }
      ]
    },
    {
      "cell_type": "markdown",
      "source": [
        "\n",
        "\n",
        "### 3.3 Exploration Data Analisys\n",
        "\n",
        "\n",
        "Figure 8.  Exploration Data Analisys on CAT 6030\n",
        "![Figure 8.  Exploration Data Analisys on CAT 6030](D:/RNN_Sensor Dynamox/Git Repositório/rnn-component-lIfe-cycle/Figure 8.  Exploration Data Analisys on CAT 6030.png)\n",
        "\n",
        "\n"
      ],
      "metadata": {
        "id": "6nM5ZIvmilk8"
      }
    },
    {
      "cell_type": "code",
      "source": [
        "pip install pandas matplotlib seaborn"
      ],
      "metadata": {
        "colab": {
          "base_uri": "https://localhost:8080/"
        },
        "id": "kG5aypYTirKA",
        "outputId": "d9410360-b4ba-4222-c56d-bed4ca4f1948"
      },
      "execution_count": 21,
      "outputs": [
        {
          "output_type": "stream",
          "name": "stdout",
          "text": [
            "Requirement already satisfied: pandas in /usr/local/lib/python3.10/dist-packages (1.5.3)\n",
            "Requirement already satisfied: matplotlib in /usr/local/lib/python3.10/dist-packages (3.7.1)\n",
            "Requirement already satisfied: seaborn in /usr/local/lib/python3.10/dist-packages (0.13.1)\n",
            "Requirement already satisfied: python-dateutil>=2.8.1 in /usr/local/lib/python3.10/dist-packages (from pandas) (2.8.2)\n",
            "Requirement already satisfied: pytz>=2020.1 in /usr/local/lib/python3.10/dist-packages (from pandas) (2023.4)\n",
            "Requirement already satisfied: numpy>=1.21.0 in /usr/local/lib/python3.10/dist-packages (from pandas) (1.23.5)\n",
            "Requirement already satisfied: contourpy>=1.0.1 in /usr/local/lib/python3.10/dist-packages (from matplotlib) (1.2.0)\n",
            "Requirement already satisfied: cycler>=0.10 in /usr/local/lib/python3.10/dist-packages (from matplotlib) (0.12.1)\n",
            "Requirement already satisfied: fonttools>=4.22.0 in /usr/local/lib/python3.10/dist-packages (from matplotlib) (4.47.2)\n",
            "Requirement already satisfied: kiwisolver>=1.0.1 in /usr/local/lib/python3.10/dist-packages (from matplotlib) (1.4.5)\n",
            "Requirement already satisfied: packaging>=20.0 in /usr/local/lib/python3.10/dist-packages (from matplotlib) (23.2)\n",
            "Requirement already satisfied: pillow>=6.2.0 in /usr/local/lib/python3.10/dist-packages (from matplotlib) (9.4.0)\n",
            "Requirement already satisfied: pyparsing>=2.3.1 in /usr/local/lib/python3.10/dist-packages (from matplotlib) (3.1.1)\n",
            "Requirement already satisfied: six>=1.5 in /usr/local/lib/python3.10/dist-packages (from python-dateutil>=2.8.1->pandas) (1.16.0)\n",
            "\u001b[33mWARNING: Running pip as the 'root' user can result in broken permissions and conflicting behaviour with the system package manager. It is recommended to use a virtual environment instead: https://pip.pypa.io/warnings/venv\u001b[0m\u001b[33m\n",
            "\u001b[0m"
          ]
        }
      ]
    },
    {
      "cell_type": "markdown",
      "source": [
        "Video para instalação do Python Virtual Enviromental\n",
        "https://www.youtube.com/watch?v=UPaN3Z49myw"
      ],
      "metadata": {
        "id": "Cb0Lqv2NIOq8"
      }
    },
    {
      "cell_type": "code",
      "source": [
        "import pandas as pd\n",
        "import matplotlib.pyplot as plt\n",
        "import seaborn as sns"
      ],
      "metadata": {
        "id": "qsgn5J5yABsK"
      },
      "execution_count": 3,
      "outputs": []
    },
    {
      "cell_type": "code",
      "source": [
        "# Filtrar os dados\n",
        "BDados_Temp = BDadosRNN[BDadosRNN['Parametro'] == 'Temperature'][['TagComp', 'Timestamp', 'Value']]\n",
        "print(BDados_Temp)"
      ],
      "metadata": {
        "colab": {
          "base_uri": "https://localhost:8080/",
          "height": 233
        },
        "id": "Fts2d0FUis9t",
        "outputId": "9c729a11-cbc4-41cb-f483-608e6c625aa3"
      },
      "execution_count": 6,
      "outputs": [
        {
          "output_type": "error",
          "ename": "NameError",
          "evalue": "name 'BDadosRNN' is not defined",
          "traceback": [
            "\u001b[0;31m---------------------------------------------------------------------------\u001b[0m",
            "\u001b[0;31mNameError\u001b[0m                                 Traceback (most recent call last)",
            "\u001b[0;32m<ipython-input-6-0237a03a1590>\u001b[0m in \u001b[0;36m<cell line: 2>\u001b[0;34m()\u001b[0m\n\u001b[1;32m      1\u001b[0m \u001b[0;31m# Filtrar os dados\u001b[0m\u001b[0;34m\u001b[0m\u001b[0;34m\u001b[0m\u001b[0m\n\u001b[0;32m----> 2\u001b[0;31m \u001b[0mBDados_Temp\u001b[0m \u001b[0;34m=\u001b[0m \u001b[0mBDadosRNN\u001b[0m\u001b[0;34m[\u001b[0m\u001b[0mBDadosRNN\u001b[0m\u001b[0;34m[\u001b[0m\u001b[0;34m'Parametro'\u001b[0m\u001b[0;34m]\u001b[0m \u001b[0;34m==\u001b[0m \u001b[0;34m'Temperature'\u001b[0m\u001b[0;34m]\u001b[0m\u001b[0;34m[\u001b[0m\u001b[0;34m[\u001b[0m\u001b[0;34m'TagComp'\u001b[0m\u001b[0;34m,\u001b[0m \u001b[0;34m'Timestamp'\u001b[0m\u001b[0;34m,\u001b[0m \u001b[0;34m'Value'\u001b[0m\u001b[0;34m]\u001b[0m\u001b[0;34m]\u001b[0m\u001b[0;34m\u001b[0m\u001b[0;34m\u001b[0m\u001b[0m\n\u001b[0m\u001b[1;32m      3\u001b[0m \u001b[0mprint\u001b[0m\u001b[0;34m(\u001b[0m\u001b[0mBDados_Temp\u001b[0m\u001b[0;34m)\u001b[0m\u001b[0;34m\u001b[0m\u001b[0;34m\u001b[0m\u001b[0m\n",
            "\u001b[0;31mNameError\u001b[0m: name 'BDadosRNN' is not defined"
          ]
        }
      ]
    },
    {
      "cell_type": "code",
      "source": [
        "# Calcular a temperatura média e desvio padrão por componente\n",
        "BDados_Temp_Sumarize = BDados_Temp.groupby('TagComp')['Value'].agg(['mean', 'std']).reset_index()\n",
        "BDados_Temp_Sumarize['mean'] = round(BDados_Temp_Sumarize['mean'], 1)\n",
        "BDados_Temp_Sumarize['std'] = round(BDados_Temp_Sumarize['std'], 1)\n",
        "print(BDados_Temp_Sumarize)"
      ],
      "metadata": {
        "colab": {
          "base_uri": "https://localhost:8080/"
        },
        "id": "T_HssZC3npDJ",
        "outputId": "314b46c3-3f2a-45f1-b1b4-4bd3be0b9db5"
      },
      "execution_count": 44,
      "outputs": [
        {
          "output_type": "stream",
          "name": "stdout",
          "text": [
            "              TagComp  mean   std\n",
            "0     BoomCylinder_LD  49.1  13.7\n",
            "1     BoomCylinder_LE  49.1  13.7\n",
            "2   BucketCylinder_LD  34.2   5.8\n",
            "3   BucketCylinder_LE  34.2   5.8\n",
            "4       FinalDrive_LD  49.1  13.7\n",
            "5       FinalDrive_LE  49.1  13.7\n",
            "6         PumpDrive_1  49.1  13.7\n",
            "7         PumpDrive_2  49.1  13.7\n",
            "8    ShellCylinder_LD  49.1  13.7\n",
            "9    ShellCylinder_LE  49.1  13.7\n",
            "10   StickCylinder_LD  49.1  13.7\n",
            "11   StickCylinder_LE  49.1  13.7\n",
            "12      SwingDrive_LD  49.1  13.7\n",
            "13      SwingDrive_LE  49.1  13.7\n",
            "14        SwingGear_1  49.1  13.7\n",
            "15        SwingGear_2  49.1  13.7\n"
          ]
        }
      ]
    },
    {
      "cell_type": "code",
      "source": [
        "\n",
        "# Plotar o gráfico\n",
        "plt.figure(figsize=(10, 6))\n",
        "sns.barplot(x='TagComp', y='mean', data=BDados_Temp_Sumarize, color='gray')\n",
        "plt.title('Temperatura Média por Componente')\n",
        "plt.xlabel('Componente')\n",
        "plt.ylabel('Temperatura Média')\n",
        "plt.ylim(0, 75)\n",
        "plt.xticks(rotation=45, ha='right')\n",
        "plt.gca().invert_xaxis()  # Inverter a ordem dos componentes\n",
        "plt.grid(axis='y', linestyle='--', alpha=0.7)\n",
        "plt.show()\n"
      ],
      "metadata": {
        "colab": {
          "base_uri": "https://localhost:8080/",
          "height": 583
        },
        "id": "ivvsTyWkKHEc",
        "outputId": "271fd542-01e4-4afa-cb24-c80d0d64b09c"
      },
      "execution_count": 45,
      "outputs": [
        {
          "output_type": "display_data",
          "data": {
            "text/plain": [
              "<Figure size 1000x600 with 1 Axes>"
            ],
            "image/png": "[encoded data removed]"
          },
          "metadata": {}
        }
      ]
    },
    {
      "cell_type": "code",
      "source": [
        "\n",
        "# Plotar o gráfico com barras de erro\n",
        "plt.figure(figsize=(10, 6))\n",
        "sns.barplot(x='TagComp', y='mean', data=BDados_Temp_Sumarize, color='gray')\n",
        "plt.errorbar(x=BDados_Temp_Sumarize['TagComp'], y=BDados_Temp_Sumarize['mean'], yerr=BDados_Temp_Sumarize['std'],\n",
        "             fmt='none', ecolor='black', capsize=5, elinewidth=1.5)\n",
        "plt.title('Temperatura Média por Componente')\n",
        "plt.xlabel('Componente')\n",
        "plt.ylabel('Temperatura Média')\n",
        "plt.ylim(0, 100)\n",
        "plt.xticks(rotation=45, ha='right')\n",
        "plt.gca().invert_xaxis()  # Inverter a ordem dos componentes\n",
        "plt.grid(axis='y', linestyle='--', alpha=0.7)\n",
        "plt.show()\n"
      ],
      "metadata": {
        "colab": {
          "base_uri": "https://localhost:8080/",
          "height": 579
        },
        "id": "csiDxRdaJ9HD",
        "outputId": "8a57cdd8-47f0-4dbd-eb9f-a4d8a38d66b6"
      },
      "execution_count": 46,
      "outputs": [
        {
          "output_type": "display_data",
          "data": {
            "text/plain": [
              "<Figure size 1000x600 with 1 Axes>"
            ],
            "image/png": "[encoded data removed]"
          },
          "metadata": {}
        }
      ]
    },
    {
      "cell_type": "code",
      "source": [
        "# Filtrar os dados para BoomCylinder_LD e BoomCylinder_LE\n",
        "BDados_Temp_BoomCil_LD_LE = BDados_Temp[BDados_Temp['TagComp'].isin(['BoomCylinder_LD', 'BoomCylinder_LE'])]\n",
        "print(BDados_Temp_BoomCil_LD_LE)"
      ],
      "metadata": {
        "colab": {
          "base_uri": "https://localhost:8080/",
          "height": 233
        },
        "id": "HnLqdopgQsjZ",
        "outputId": "db3cec32-efab-4302-a9f0-04ce294298ca"
      },
      "execution_count": 5,
      "outputs": [
        {
          "output_type": "error",
          "ename": "NameError",
          "evalue": "name 'BDados_Temp' is not defined",
          "traceback": [
            "\u001b[0;31m---------------------------------------------------------------------------\u001b[0m",
            "\u001b[0;31mNameError\u001b[0m                                 Traceback (most recent call last)",
            "\u001b[0;32m<ipython-input-5-97d7d999c49c>\u001b[0m in \u001b[0;36m<cell line: 2>\u001b[0;34m()\u001b[0m\n\u001b[1;32m      1\u001b[0m \u001b[0;31m# Filtrar os dados para BoomCylinder_LD e BoomCylinder_LE\u001b[0m\u001b[0;34m\u001b[0m\u001b[0;34m\u001b[0m\u001b[0m\n\u001b[0;32m----> 2\u001b[0;31m \u001b[0mBDados_Temp_BoomCil_LD_LE\u001b[0m \u001b[0;34m=\u001b[0m \u001b[0mBDados_Temp\u001b[0m\u001b[0;34m[\u001b[0m\u001b[0mBDados_Temp\u001b[0m\u001b[0;34m[\u001b[0m\u001b[0;34m'TagComp'\u001b[0m\u001b[0;34m]\u001b[0m\u001b[0;34m.\u001b[0m\u001b[0misin\u001b[0m\u001b[0;34m(\u001b[0m\u001b[0;34m[\u001b[0m\u001b[0;34m'BoomCylinder_LD'\u001b[0m\u001b[0;34m,\u001b[0m \u001b[0;34m'BoomCylinder_LE'\u001b[0m\u001b[0;34m]\u001b[0m\u001b[0;34m)\u001b[0m\u001b[0;34m]\u001b[0m\u001b[0;34m\u001b[0m\u001b[0;34m\u001b[0m\u001b[0m\n\u001b[0m\u001b[1;32m      3\u001b[0m \u001b[0mprint\u001b[0m\u001b[0;34m(\u001b[0m\u001b[0mBDados_Temp_BoomCil_LD_LE\u001b[0m\u001b[0;34m)\u001b[0m\u001b[0;34m\u001b[0m\u001b[0;34m\u001b[0m\u001b[0m\n",
            "\u001b[0;31mNameError\u001b[0m: name 'BDados_Temp' is not defined"
          ]
        }
      ]
    },
    {
      "cell_type": "code",
      "source": [
        "# Plotar boxplots\n",
        "plt.figure(figsize=(12, 8))\n",
        "sns.boxplot(x='Timestamp', y='Value', hue='TagComp', data=BDados_Temp_BoomCil_LD_LE, palette='Set2')\n",
        "plt.title('Boxplot de Temperaturas por TagComp')\n",
        "plt.xlabel('TagComp')\n",
        "plt.ylabel('Temperatura')\n",
        "plt.legend(title='TagComp', bbox_to_anchor=(1.05, 1), loc='upper left')  # Adiciona legenda\n",
        "plt.xticks(rotation=45, ha='right')  # Rotaciona os rótulos do eixo x para melhor legibilidade\n",
        "plt.show()"
      ],
      "metadata": {
        "colab": {
          "base_uri": "https://localhost:8080/",
          "height": 287
        },
        "id": "APg6Dd_enwUQ",
        "outputId": "647f2cfc-946c-4faa-fe6a-f8fd63185038"
      },
      "execution_count": 4,
      "outputs": [
        {
          "output_type": "error",
          "ename": "NameError",
          "evalue": "name 'BDados_Temp_BoomCil_LD_LE' is not defined",
          "traceback": [
            "\u001b[0;31m---------------------------------------------------------------------------\u001b[0m",
            "\u001b[0;31mNameError\u001b[0m                                 Traceback (most recent call last)",
            "\u001b[0;32m<ipython-input-4-18a9f96a1e59>\u001b[0m in \u001b[0;36m<cell line: 3>\u001b[0;34m()\u001b[0m\n\u001b[1;32m      1\u001b[0m \u001b[0;31m# Plotar boxplots\u001b[0m\u001b[0;34m\u001b[0m\u001b[0;34m\u001b[0m\u001b[0m\n\u001b[1;32m      2\u001b[0m \u001b[0mplt\u001b[0m\u001b[0;34m.\u001b[0m\u001b[0mfigure\u001b[0m\u001b[0;34m(\u001b[0m\u001b[0mfigsize\u001b[0m\u001b[0;34m=\u001b[0m\u001b[0;34m(\u001b[0m\u001b[0;36m12\u001b[0m\u001b[0;34m,\u001b[0m \u001b[0;36m8\u001b[0m\u001b[0;34m)\u001b[0m\u001b[0;34m)\u001b[0m\u001b[0;34m\u001b[0m\u001b[0;34m\u001b[0m\u001b[0m\n\u001b[0;32m----> 3\u001b[0;31m \u001b[0msns\u001b[0m\u001b[0;34m.\u001b[0m\u001b[0mboxplot\u001b[0m\u001b[0;34m(\u001b[0m\u001b[0mx\u001b[0m\u001b[0;34m=\u001b[0m\u001b[0;34m'Timestamp'\u001b[0m\u001b[0;34m,\u001b[0m \u001b[0my\u001b[0m\u001b[0;34m=\u001b[0m\u001b[0;34m'Value'\u001b[0m\u001b[0;34m,\u001b[0m \u001b[0mhue\u001b[0m\u001b[0;34m=\u001b[0m\u001b[0;34m'TagComp'\u001b[0m\u001b[0;34m,\u001b[0m \u001b[0mdata\u001b[0m\u001b[0;34m=\u001b[0m\u001b[0mBDados_Temp_BoomCil_LD_LE\u001b[0m\u001b[0;34m,\u001b[0m \u001b[0mpalette\u001b[0m\u001b[0;34m=\u001b[0m\u001b[0;34m'Set2'\u001b[0m\u001b[0;34m)\u001b[0m\u001b[0;34m\u001b[0m\u001b[0;34m\u001b[0m\u001b[0m\n\u001b[0m\u001b[1;32m      4\u001b[0m \u001b[0mplt\u001b[0m\u001b[0;34m.\u001b[0m\u001b[0mtitle\u001b[0m\u001b[0;34m(\u001b[0m\u001b[0;34m'Boxplot de Temperaturas por TagComp'\u001b[0m\u001b[0;34m)\u001b[0m\u001b[0;34m\u001b[0m\u001b[0;34m\u001b[0m\u001b[0m\n\u001b[1;32m      5\u001b[0m \u001b[0mplt\u001b[0m\u001b[0;34m.\u001b[0m\u001b[0mxlabel\u001b[0m\u001b[0;34m(\u001b[0m\u001b[0;34m'TagComp'\u001b[0m\u001b[0;34m)\u001b[0m\u001b[0;34m\u001b[0m\u001b[0;34m\u001b[0m\u001b[0m\n",
            "\u001b[0;31mNameError\u001b[0m: name 'BDados_Temp_BoomCil_LD_LE' is not defined"
          ]
        },
        {
          "output_type": "display_data",
          "data": {
            "text/plain": [
              "<Figure size 1200x800 with 0 Axes>"
            ]
          },
          "metadata": {}
        }
      ]
    },
    {
      "cell_type": "markdown",
      "source": [
        "# Filtrar os dados para BucketCylinder_LD e BucketCylinder_LE para comparar as variações de temperatura em relação ao tempo de ambos os componnentes\n",
        "\n"
      ],
      "metadata": {
        "id": "MbO2qdLZRSZm"
      }
    },
    {
      "cell_type": "code",
      "source": [
        "# Filtrar os dados para BucketCylinder_LD e BucketCylinder_LE\n",
        "BDados_Temp_BucketCil_LD_LE = BDados_Temp[BDados_Temp['TagComp'].isin(['BucketCylinder_LD', 'BucketCylinder_LE'])]"
      ],
      "metadata": {
        "id": "TgkPmn1Zn3Lx"
      },
      "execution_count": null,
      "outputs": []
    },
    {
      "cell_type": "code",
      "source": [
        "# Plotar boxplots\n",
        "plt.figure(figsize=(12, 6))\n",
        "sns.boxplot(data=BDados_Temp_BucketCil_LD_LE, x='Timestamp', y='Value', hue='TagComp', palette='Set2', width=0.5)\n",
        "plt.title('Boxplot de Temperatura Média para BucketCylinder_LD e BucketCylinder_LE')\n",
        "plt.xlabel('Sequencial')\n",
        "plt.ylabel('Temperatura Média')\n",
        "plt.show()\n"
      ],
      "metadata": {
        "id": "MpLyfbruQi8F"
      },
      "execution_count": null,
      "outputs": []
    },
    {
      "cell_type": "markdown",
      "source": [
        "# Filtrar os dados para PumpDrive_1 e PumpDrive_2 para comparar as variações de temperatura em relação ao tempo de ambos os componnentes"
      ],
      "metadata": {
        "id": "JN9Htmf2RdPj"
      }
    },
    {
      "cell_type": "code",
      "source": [
        "BDados_Temp_PumpDrive_1_2 = BDados_Temp[BDados_Temp['TagComp'].isin(['PumpDrive_1', 'PumpDrive_2'])]"
      ],
      "metadata": {
        "id": "zKjcx7tun_nB"
      },
      "execution_count": null,
      "outputs": []
    },
    {
      "cell_type": "code",
      "source": [
        "# Plotar boxplots\n",
        "plt.figure(figsize=(12, 6))\n",
        "sns.boxplot(data=BDados_Temp_PumpDrive_1_2, x='Timestamp', y='Value', hue='TagComp', palette='Set2', width=0.5)\n",
        "plt.title('Boxplot de Temperatura Média para PumpDrive_1 e PumpDrive_2')\n",
        "plt.xlabel('Sequencial')\n",
        "plt.ylabel('Temperatura Média')\n",
        "plt.show()"
      ],
      "metadata": {
        "id": "BEjK8KR4Q2mf"
      },
      "execution_count": null,
      "outputs": []
    },
    {
      "cell_type": "markdown",
      "source": [
        "# Filtrar os dados para ShellCylinder_LD e ShellCylinder_LE para comparar as variações de temperatura em relação ao tempo de ambos os componnentes\n",
        "\n"
      ],
      "metadata": {
        "id": "4-AQ_0DRRi1w"
      }
    },
    {
      "cell_type": "code",
      "source": [
        "# Filtrar os dados para ShellCylinder_LD e ShellCylinder_LE\n",
        "BDados_Temp_ShellCylinder_LD_LE = BDados_Temp[BDados_Temp['TagComp'].isin(['ShellCylinder_LD', 'ShellCylinder_LE'])]"
      ],
      "metadata": {
        "id": "1mS6kbo8orbR"
      },
      "execution_count": null,
      "outputs": []
    },
    {
      "cell_type": "code",
      "source": [
        "# Plotar boxplots\n",
        "plt.figure(figsize=(12, 6))\n",
        "sns.boxplot(data=BDados_Temp_ShellCylinder_LD_LE, x='Timestamp', y='Value', hue='TagComp', palette='Set2', width=0.5)\n",
        "plt.title('Boxplot de Temperatura Média para ShellCylinder_LD e ShellCylinder_LE')\n",
        "plt.xlabel('Sequencial')\n",
        "plt.ylabel('Temperatura Média')\n",
        "plt.show()"
      ],
      "metadata": {
        "id": "qlcl1icOQ4pv"
      },
      "execution_count": null,
      "outputs": []
    },
    {
      "cell_type": "markdown",
      "source": [
        "# Filtrar os dados para StickCylinder_LD e StickCylinder_LE para comparar as variações de temperatura em relação ao tempo de ambos os componnentes"
      ],
      "metadata": {
        "id": "1Eptaho2RqzG"
      }
    },
    {
      "cell_type": "code",
      "source": [
        "# Filtrar os dados para StickCylinder_LD e StickCylinder_LE\n",
        "BDados_Temp_StickCylinder_LD_LE = BDados_Temp[BDados_Temp['TagComp'].isin(['StickCylinder_LD', 'StickCylinder_LE'])]"
      ],
      "metadata": {
        "id": "CF16bqiLo4Lv"
      },
      "execution_count": null,
      "outputs": []
    },
    {
      "cell_type": "code",
      "source": [
        "# Plotar boxplots\n",
        "plt.figure(figsize=(12, 6))\n",
        "sns.boxplot(data=BDados_Temp_StickCylinder_LD_LE, x='Timestamp', y='Value', hue='TagComp', palette='Set2', width=0.5)\n",
        "plt.title('Boxplot de Temperatura Média para StickCylinder_LD e StickCylinder_LE')\n",
        "plt.xlabel('Sequencial')\n",
        "plt.ylabel('Temperatura Média')\n",
        "plt.show()"
      ],
      "metadata": {
        "id": "YrxvbOj1Q9kV"
      },
      "execution_count": null,
      "outputs": []
    },
    {
      "cell_type": "markdown",
      "source": [
        "# Filtrar os dados para ShellCylinder_LD e ShellCylinder_LE para comparar as variações de temperatura em relação ao tempo de ambos os componnentes"
      ],
      "metadata": {
        "id": "uC-ULKBYRwT7"
      }
    },
    {
      "cell_type": "code",
      "source": [
        "# Filtrar os dados para ShellCylinder_LD e ShellCylinder_LE\n",
        "BDados_Temp_ShellCylinder_LD_LE = BDados_Temp[BDados_Temp['TagComp'].isin(['ShellCylinder_LD', 'ShellCylinder_LE'])]"
      ],
      "metadata": {
        "id": "WkLFWXLAo-nr"
      },
      "execution_count": null,
      "outputs": []
    },
    {
      "cell_type": "code",
      "source": [
        "# Plotar boxplots\n",
        "plt.figure(figsize=(12, 6))\n",
        "sns.boxplot(data=BDados_Temp_ShellCylinder_LD_LE, x='Timestamp', y='Value', hue='TagComp', palette='Set2', width=0.5)\n",
        "plt.title('Boxplot de Temperatura Média para ShellCylinder_LD e ShellCylinder_LE')\n",
        "plt.xlabel('Sequencial')\n",
        "plt.ylabel('Temperatura Média')\n",
        "plt.show()"
      ],
      "metadata": {
        "id": "VQw-MELQRCZW"
      },
      "execution_count": null,
      "outputs": []
    },
    {
      "cell_type": "markdown",
      "source": [
        "Filtrar os dados para SwingDrive_LD e SwingDrive_LE para comparar as variações de temperatura em relação ao tempo de ambos os componnentes"
      ],
      "metadata": {
        "id": "b-pkLzrORzzI"
      }
    },
    {
      "cell_type": "code",
      "source": [
        "# Filtrar os dados para SwingDrive_LD e SwingDrive_LE\n",
        "BDados_Temp_SwingDrive_LD_LE = BDados_Temp[BDados_Temp['TagComp'].isin(['SwingDrive_LD', 'SwingDrive_LE'])]"
      ],
      "metadata": {
        "id": "qzpD9VcIpDgb"
      },
      "execution_count": null,
      "outputs": []
    },
    {
      "cell_type": "code",
      "source": [
        "# Plotar boxplots\n",
        "plt.figure(figsize=(12, 6))\n",
        "sns.boxplot(data=BDados_Temp_SwingDrive_LD_LE, x='Timestamp', y='Value', hue='TagComp', palette='Set2', width=0.5)\n",
        "plt.title('Boxplot de Temperatura Média para SwingDrive_LD e SwingDrive_LE')\n",
        "plt.xlabel('Sequencial')\n",
        "plt.ylabel('Temperatura Média')\n",
        "plt.show()"
      ],
      "metadata": {
        "id": "KoTHyoyYREw5"
      },
      "execution_count": null,
      "outputs": []
    },
    {
      "cell_type": "markdown",
      "source": [
        "Filtrar os dados para SwingGear_1 e SwingGear_2 para comparar as variações de temperatura em relação ao tempo de ambos os componnentes"
      ],
      "metadata": {
        "id": "YtKYwXOpR8yD"
      }
    },
    {
      "cell_type": "code",
      "source": [
        "# Filtrar os dados para SwingGear_1 e SwingGear_2\n",
        "BDados_Temp_SwingGear_1_2 = BDados_Temp[BDados_Temp['TagComp'].isin(['SwingGear_1', 'SwingGear_2'])]"
      ],
      "metadata": {
        "id": "0AxYE1aBpHXB"
      },
      "execution_count": null,
      "outputs": []
    },
    {
      "cell_type": "code",
      "source": [
        "# Plotar boxplots\n",
        "plt.figure(figsize=(12, 6))\n",
        "sns.boxplot(data=BDados_Temp_SwingGear_1_2, x='Timestamp', y='Value', hue='TagComp', palette='Set2', width=0.5)\n",
        "plt.title('Boxplot de Temperatura Média para SwingGear_1 e SwingGear_2')\n",
        "plt.xlabel('Sequencial')\n",
        "plt.ylabel('Temperatura Média')\n",
        "plt.show()"
      ],
      "metadata": {
        "id": "sg1KDNhdRIyw"
      },
      "execution_count": null,
      "outputs": []
    },
    {
      "cell_type": "markdown",
      "source": [
        "BDados_Temp_Tran"
      ],
      "metadata": {
        "id": "TFYii6NqpdwY"
      }
    },
    {
      "cell_type": "code",
      "source": [
        "# Calcular a média de temperatura por componente e dia\n",
        "TempDia = BDados_Temp.groupby(['TagComp', 'Timestamp'])['Value'].mean().reset_index()"
      ],
      "metadata": {
        "id": "cARfqw14pNor"
      },
      "execution_count": null,
      "outputs": []
    },
    {
      "cell_type": "code",
      "source": [
        "# Plotar o gráfico de barras\n",
        "plt.figure(figsize=(12, 6))\n",
        "sns.barplot(data=TempDia, x='Timestamp', y='Value', hue='TagComp', palette='Set1', alpha=0.8)\n",
        "plt.title('Média de Temperatura por Dia e Componente')\n",
        "plt.xlabel('Dia')\n",
        "plt.ylabel('Média de Temperatura')\n",
        "plt.xticks(rotation=45)\n",
        "plt.show()"
      ],
      "metadata": {
        "id": "sTlD1_JtRLO_"
      },
      "execution_count": null,
      "outputs": []
    },
    {
      "cell_type": "markdown",
      "source": [],
      "metadata": {
        "id": "PCdZ1Ioqpc0l"
      }
    },
    {
      "cell_type": "code",
      "source": [
        "# Plotar os gráficos de dispersão facetais\n",
        "plt.figure(figsize=(12, 8))\n",
        "sns.scatterplot(data=BDados_Temp, x='Timestamp', y='Value', hue='TagComp', palette='coral', alpha=0.8)\n",
        "plt.title('Temperatura por Componente ao Longo do Tempo')\n",
        "plt.xlabel('Timestamp')\n",
        "plt.ylabel('Temperatura Componente (C°)')\n",
        "plt.legend(bbox_to_anchor=(1.05, 1), loc='upper left')\n",
        "plt.xticks(rotation=45)\n",
        "plt.show()\n"
      ],
      "metadata": {
        "id": "WmrUjLAapSwJ"
      },
      "execution_count": null,
      "outputs": []
    },
    {
      "cell_type": "markdown",
      "source": [
        "#### #### BoomCilindersLD_LE\n",
        "\n"
      ],
      "metadata": {
        "id": "0Hl9DPMIphb5"
      }
    },
    {
      "cell_type": "code",
      "source": [
        "pip install plotly"
      ],
      "metadata": {
        "id": "z3QTFlzBsE8T"
      },
      "execution_count": null,
      "outputs": []
    },
    {
      "cell_type": "code",
      "source": [
        "import plotly.graph_objects as go\n",
        "from plotly.subplots import make_subplots\n",
        "\n",
        "# Criar um novo dataframe com duas colunas do dataframe sem NA\n",
        "BDados_Temp_TransBoomCylinderLD_LE = BDados_Temp_Trans[['BoomCylinder_LD', 'BoomCylinder_LE', 'Timestamp']].dropna()\n",
        "\n",
        "# Criar subplots com plotly\n",
        "fig = make_subplots(rows=2, cols=1, shared_xaxes=True, subplot_titles=['(C°)BoomCylinder_LD', '(C°)BoomCylinder_LE'])\n",
        "\n",
        "# Adicionar traces para BoomCylinder_LD\n",
        "fig.add_trace(go.Scatter(x=BDados_Temp_TransBoomCylinderLD_LE['Timestamp'], y=BDados_Temp_TransBoomCylinderLD_LE['BoomCylinder_LD'],\n",
        "                         mode='lines', fill='tozeroy', line=dict(color='blue'), name='(C°)BoomCylinder_LD'),\n",
        "              row=1, col=1)\n",
        "\n",
        "# Adicionar traces para BoomCylinder_LE\n",
        "fig.add_trace(go.Scatter(x=BDados_Temp_TransBoomCylinderLD_LE['Timestamp'], y=BDados_Temp_TransBoomCylinderLD_LE['BoomCylinder_LE'],\n",
        "                         mode='lines', fill='tozeroy', line=dict(color='blue'), name='(C°)BoomCylinder_LE'),\n",
        "              row=2, col=1)\n",
        "\n",
        "# Atualizar layout com títulos personalizados\n",
        "fig.update_layout(title_text='Temperatura BoomCylinder_LD e BoomCylinder_LE ao longo do tempo',\n",
        "                  showlegend=False)  # Desativar a legenda global\n",
        "\n",
        "# Exibir o gráfico interativo\n",
        "fig.show()\n"
      ],
      "metadata": {
        "id": "TnCt-9KOpYMi"
      },
      "execution_count": null,
      "outputs": []
    },
    {
      "cell_type": "markdown",
      "source": [
        "#### StickCilindersLD_LE\n"
      ],
      "metadata": {
        "id": "wVkiDRGVpwPp"
      }
    },
    {
      "cell_type": "code",
      "source": [
        "pip install plotly"
      ],
      "metadata": {
        "id": "4x9eqXv4sBUI"
      },
      "execution_count": null,
      "outputs": []
    },
    {
      "cell_type": "code",
      "source": [
        "import plotly.graph_objects as go\n",
        "from plotly.subplots import make_subplots\n",
        "\n",
        "# Criar um novo dataframe com duas colunas do dataframe sem NA\n",
        "BDados_Temp_TransStickCilindersLD_LE = BDados_Temp_Trans[['StickCylinder_LD', 'StickCylinder_LE', 'Timestamp']].dropna()\n",
        "\n",
        "# Criar subplots com plotly\n",
        "fig = make_subplots(rows=2, cols=1, shared_xaxes=True, subplot_titles=['(C°)StickCylinder_LD', '(C°)StickCylinder_LE'])\n",
        "\n",
        "# Adicionar traces para StickCylinder_LD\n",
        "fig.add_trace(go.Scatter(x=BDados_Temp_TransStickCilindersLD_LE['Timestamp'], y=BDados_Temp_TransStickCilindersLD_LE['StickCylinder_LD'],\n",
        "                         mode='lines', fill='tozeroy', line=dict(color='blue'), name='(C°)StickCylinder_LD'),\n",
        "              row=1, col=1)\n",
        "\n",
        "# Adicionar traces para StickCylinder_LE\n",
        "fig.add_trace(go.Scatter(x=BDados_Temp_TransStickCilindersLD_LE['Timestamp'], y=BDados_Temp_TransStickCilindersLD_LE['StickCylinder_LE'],\n",
        "                         mode='lines', fill='tozeroy', line=dict(color='blue'), name='(C°)StickCylinder_LE'),\n",
        "              row=2, col=1)\n",
        "\n",
        "# Atualizar layout com títulos personalizados\n",
        "fig.update_layout(title_text='Temperatura StickCylinder_LD e StickCylinder_LE ao longo do tempo',\n",
        "                  showlegend=False)  # Desativar a legenda global\n",
        "\n",
        "# Exibir o gráfico interativo\n",
        "fig.show()\n"
      ],
      "metadata": {
        "id": "8B5EUlsppyQA"
      },
      "execution_count": null,
      "outputs": []
    },
    {
      "cell_type": "markdown",
      "source": [
        "#### FinalDrive_LD_LE\n"
      ],
      "metadata": {
        "id": "sRnyWeD6ql4Z"
      }
    },
    {
      "cell_type": "code",
      "source": [
        "pip install plotly"
      ],
      "metadata": {
        "id": "GY3trEiNqnUP"
      },
      "execution_count": null,
      "outputs": []
    },
    {
      "cell_type": "code",
      "source": [
        "import plotly.graph_objects as go\n",
        "from plotly.subplots import make_subplots\n",
        "\n",
        "# Criar um novo dataframe com duas colunas do dataframe sem NA\n",
        "BDados_Temp_TransFinalDrive_LD_LE = BDados_Temp_Trans[['FinalDrive_LD', 'FinalDrive_LE', 'Timestamp']].dropna()\n",
        "\n",
        "# Criar subplots com plotly\n",
        "fig = make_subplots(rows=2, cols=1, shared_xaxes=True, subplot_titles=['(C°)FinalDrive_LD', '(C°)FinalDrive_LE'])\n",
        "\n",
        "# Adicionar traces para FinalDrive_LD\n",
        "fig.add_trace(go.Scatter(x=BDados_Temp_TransFinalDrive_LD_LE['Timestamp'], y=BDados_Temp_TransFinalDrive_LD_LE['FinalDrive_LD'],\n",
        "                         mode='lines', fill='tozeroy', line=dict(color='blue'), name='(C°)FinalDrive_LD'),\n",
        "              row=1, col=1)\n",
        "\n",
        "# Adicionar traces para FinalDrive_LE\n",
        "fig.add_trace(go.Scatter(x=BDados_Temp_TransFinalDrive_LD_LE['Timestamp'], y=BDados_Temp_TransFinalDrive_LD_LE['FinalDrive_LE'],\n",
        "                         mode='lines', fill='tozeroy', line=dict(color='blue'), name='(C°)FinalDrive_LE'),\n",
        "              row=2, col=1)\n",
        "\n",
        "# Atualizar layout com títulos personalizados\n",
        "fig.update_layout(title_text='Temperatura FinalDrive_LD e FinalDrive_LE ao longo do tempo',\n",
        "                  showlegend=False)  # Desativar a legenda global\n",
        "\n",
        "# Exibir o gráfico interativo\n",
        "fig.show()\n"
      ],
      "metadata": {
        "id": "8UbJhbKVr9Yi"
      },
      "execution_count": null,
      "outputs": []
    },
    {
      "cell_type": "markdown",
      "source": [
        "#### ShellCylinder_LD_LE"
      ],
      "metadata": {
        "id": "dc1nsoJjsIIu"
      }
    },
    {
      "cell_type": "code",
      "source": [
        "pip install plotly"
      ],
      "metadata": {
        "id": "olzLjxfysI6k"
      },
      "execution_count": null,
      "outputs": []
    },
    {
      "cell_type": "code",
      "source": [
        "import plotly.graph_objects as go\n",
        "from plotly.subplots import make_subplots\n",
        "\n",
        "# Criar um novo dataframe com duas colunas do dataframe sem NA\n",
        "BDados_Temp_TransShellCylinder_LD_LE = BDados_Temp_Trans[['ShellCylinder_LD', 'ShellCylinder_LE', 'Timestamp']].dropna()\n",
        "\n",
        "# Criar subplots com plotly\n",
        "fig = make_subplots(rows=2, cols=1, shared_xaxes=True, subplot_titles=['(C°)ShellCylinder_LD', '(C°)ShellCylinder_LE'])\n",
        "\n",
        "# Adicionar traces para ShellCylinder_LD\n",
        "fig.add_trace(go.Scatter(x=BDados_Temp_TransShellCylinder_LD_LE['Timestamp'], y=BDados_Temp_TransShellCylinder_LD_LE['ShellCylinder_LD'],\n",
        "                         mode='lines', fill='tozeroy', line=dict(color='blue'), name='(C°)ShellCylinder_LD'),\n",
        "              row=1, col=1)\n",
        "\n",
        "# Adicionar traces para ShellCylinder_LE\n",
        "fig.add_trace(go.Scatter(x=BDados_Temp_TransShellCylinder_LD_LE['Timestamp'], y=BDados_Temp_TransShellCylinder_LD_LE['ShellCylinder_LE'],\n",
        "                         mode='lines', fill='tozeroy', line=dict(color='blue'), name='(C°)ShellCylinder_LE'),\n",
        "              row=2, col=1)\n",
        "\n",
        "# Atualizar layout com títulos personalizados\n",
        "fig.update_layout(title_text='Temperatura ShellCylinder_LD e ShellCylinder_LE ao longo do tempo',\n",
        "                  showlegend=False)  # Desativar a legenda global\n",
        "\n",
        "# Exibir o gráfico interativo\n",
        "fig.show()\n"
      ],
      "metadata": {
        "id": "--mQZTyIsQFM"
      },
      "execution_count": null,
      "outputs": []
    },
    {
      "cell_type": "markdown",
      "source": [
        "#### PumpDrive_1_2\n"
      ],
      "metadata": {
        "id": "ni02PQSJsTFx"
      }
    },
    {
      "cell_type": "code",
      "source": [
        "pip install plotly"
      ],
      "metadata": {
        "id": "zeJjwMHosT2S"
      },
      "execution_count": null,
      "outputs": []
    },
    {
      "cell_type": "code",
      "source": [
        "import plotly.graph_objects as go\n",
        "from plotly.subplots import make_subplots\n",
        "\n",
        "# Criar um novo dataframe com duas colunas do dataframe sem NA\n",
        "BDados_Temp_TransPumpDrive_1_2 = BDados_Temp_Trans[['PumpDrive_1', 'PumpDrive_2', 'Timestamp']].dropna()\n",
        "\n",
        "# Criar subplots com plotly\n",
        "fig = make_subplots(rows=2, cols=1, shared_xaxes=True, subplot_titles=['(C°)PumpDrive_1', '(C°)PumpDrive_2'])\n",
        "\n",
        "# Adicionar traces para PumpDrive_1\n",
        "fig.add_trace(go.Scatter(x=BDados_Temp_TransPumpDrive_1_2['Timestamp'], y=BDados_Temp_TransPumpDrive_1_2['PumpDrive_1'],\n",
        "                         mode='lines', fill='tozeroy', line=dict(color='blue'), name='(C°)PumpDrive_1'),\n",
        "              row=1, col=1)\n",
        "\n",
        "# Adicionar traces para PumpDrive_2\n",
        "fig.add_trace(go.Scatter(x=BDados_Temp_TransPumpDrive_1_2['Timestamp'], y=BDados_Temp_TransPumpDrive_1_2['PumpDrive_2'],\n",
        "                         mode='lines', fill='tozeroy', line=dict(color='blue'), name='(C°)PumpDrive_2'),\n",
        "              row=2, col=1)\n",
        "\n",
        "# Atualizar layout com títulos personalizados\n",
        "fig.update_layout(title_text='Temperatura PumpDrive_1 e PumpDrive_2 ao longo do tempo',\n",
        "                  showlegend=False)  # Desativar a legenda global\n",
        "\n",
        "# Exibir o gráfico interativo\n",
        "fig.show()\n"
      ],
      "metadata": {
        "id": "9QtiMQkUsa8-"
      },
      "execution_count": null,
      "outputs": []
    },
    {
      "cell_type": "markdown",
      "source": [
        "#### ShellSwingGear_1_2\n"
      ],
      "metadata": {
        "id": "NxLyO-qBscSg"
      }
    },
    {
      "cell_type": "code",
      "source": [
        "pip install plotly"
      ],
      "metadata": {
        "id": "yQidwR1asf8n"
      },
      "execution_count": null,
      "outputs": []
    },
    {
      "cell_type": "code",
      "source": [
        "import plotly.graph_objects as go\n",
        "from plotly.subplots import make_subplots\n",
        "\n",
        "# Criar um novo dataframe com duas colunas do dataframe sem NA\n",
        "BDados_Temp_TransShellSwingGear_1_2 = BDados_Temp_Trans[['SwingGear_1', 'SwingGear_2', 'Timestamp']].dropna()\n",
        "\n",
        "# Criar subplots com plotly\n",
        "fig = make_subplots(rows=2, cols=1, shared_xaxes=True, subplot_titles=['(C°)SwingGear_1', '(C°)SwingGear_2'])\n",
        "\n",
        "# Adicionar traces para SwingGear_1\n",
        "fig.add_trace(go.Scatter(x=BDados_Temp_TransShellSwingGear_1_2['Timestamp'], y=BDados_Temp_TransShellSwingGear_1_2['SwingGear_1'],\n",
        "                         mode='lines', fill='tozeroy', line=dict(color='blue'), name='(C°)SwingGear_1'),\n",
        "              row=1, col=1)\n",
        "\n",
        "# Adicionar traces para SwingGear_2\n",
        "fig.add_trace(go.Scatter(x=BDados_Temp_TransShellSwingGear_1_2['Timestamp'], y=BDados_Temp_TransShellSwingGear_1_2['SwingGear_2'],\n",
        "                         mode='lines', fill='tozeroy', line=dict(color='blue'), name='(C°)SwingGear_2'),\n",
        "              row=2, col=1)\n",
        "\n",
        "# Atualizar layout com títulos personalizados\n",
        "fig.update_layout(title_text='Temperatura SwingGear_1 e SwingGear_2 ao longo do tempo',\n",
        "                  showlegend=False)  # Desativar a legenda global\n",
        "\n",
        "# Exibir o gráfico interativo\n",
        "fig.show()\n"
      ],
      "metadata": {
        "id": "TYpAHLDpskJg"
      },
      "execution_count": null,
      "outputs": []
    },
    {
      "cell_type": "markdown",
      "source": [
        "#### BucketCylinder_LD_LE\n"
      ],
      "metadata": {
        "id": "WOaS77JPslwF"
      }
    },
    {
      "cell_type": "code",
      "source": [
        "pip install plotly"
      ],
      "metadata": {
        "id": "VA32sOgtsqVv"
      },
      "execution_count": null,
      "outputs": []
    },
    {
      "cell_type": "code",
      "source": [
        "import plotly.graph_objects as go\n",
        "from plotly.subplots import make_subplots\n",
        "\n",
        "# Criar um novo dataframe com duas colunas do dataframe sem NA\n",
        "BDados_Temp_TransBucketCylinder_LD_LE = BDados_Temp_Trans[['BucketCylinder_LD', 'BucketCylinder_LE', 'Timestamp']].dropna()\n",
        "\n",
        "# Criar subplots com plotly\n",
        "fig = make_subplots(rows=2, cols=1, shared_xaxes=True, subplot_titles=['(C°)BucketCylinder_LD', '(C°)BucketCylinder_LE'])\n",
        "\n",
        "# Adicionar traces para BucketCylinder_LD\n",
        "fig.add_trace(go.Scatter(x=BDados_Temp_TransBucketCylinder_LD_LE['Timestamp'], y=BDados_Temp_TransBucketCylinder_LD_LE['BucketCylinder_LD'],\n",
        "                         mode='lines', fill='tozeroy', line=dict(color='blue'), name='(C°)BucketCylinder_LD'),\n",
        "              row=1, col=1)\n",
        "\n",
        "# Adicionar traces para BucketCylinder_LE\n",
        "fig.add_trace(go.Scatter(x=BDados_Temp_TransBucketCylinder_LD_LE['Timestamp'], y=BDados_Temp_TransBucketCylinder_LD_LE['BucketCylinder_LE'],\n",
        "                         mode='lines', fill='tozeroy', line=dict(color='blue'), name='(C°)BucketCylinder_LE'),\n",
        "              row=2, col=1)\n",
        "\n",
        "# Atualizar layout com títulos personalizados\n",
        "fig.update_layout(title_text='Temperatura BucketCylinder_LD e BucketCylinder_LE ao longo do tempo',\n",
        "                  showlegend=False)  # Desativar a legenda global\n",
        "\n",
        "# Exibir o gráfico interativo\n",
        "fig.show()\n"
      ],
      "metadata": {
        "id": "cOoGOYovtC9l"
      },
      "execution_count": null,
      "outputs": []
    },
    {
      "cell_type": "markdown",
      "source": [
        "\n",
        "\n",
        "### 3.4 Component LIfe Projection\n",
        "\n",
        "\n",
        "Figure 9.  Component LIfe Projection on CAT 6030\n",
        "![Figure 9.  Component LIfe Projection on CAT 6030](D:/RNN_Sensor Dynamox/Git Repositório/rnn-component-lIfe-cycle/Figure 9.  Component LIfe Projection on CAT 6030.png)\n",
        "\n",
        "\n",
        "## 4 Results/benefits\n",
        "\n",
        "Key benefits of implementing the best practice include the following:\n",
        "\n",
        "Improved Machine Availability and Productivity– Components like cylinders that have few typical condition monitoring parameters can be better monitored with additional methods like thermography; replacement plans (parts, scheduled downtime, etc) can be put in place before failure of the component.\n",
        "\n",
        "Additionally, these are direct and indirect benefits:\n",
        "•\tAllows greater agility in temperature assessment (lower MTTR)\n",
        "•\tReduces risks through less time spent in the asset's operating zone (Elimination of live work)\n",
        "•\tProvides greater sensitivity in decision making for asset shutdown and definition of the next cycle time measurement step\n",
        "•\tProvided greater predictability in the cylinder replacement planning and schedule process;\n",
        "o\tWear evaluation increase the accuracy in the replacement forecast;\n",
        "o\tImprovement in material stock planning by using the hours actually operated as a parameter;\n",
        "\n",
        "\n",
        "\n",
        "\n",
        "## R Markdown\n",
        "\n",
        "This is an R Markdown document. Markdown is a simple formatting syntax for authoring HTML, PDF, and MS Word documents. For more details on using R Markdown see <http://rmarkdown.rstudio.com>.\n",
        "\n",
        "When you click the **Knit** button a document will be generated that includes both content as well as the output of any embedded R code chunks within the document. You can embed an R code chunk like this:\n",
        "\n",
        "\n",
        "\n",
        "\n",
        "\n",
        "You can also embed plots, for example:"
      ],
      "metadata": {
        "id": "zFSs7OtxtH8M"
      }
    },
    {
      "cell_type": "code",
      "source": [
        "pip install pandas"
      ],
      "metadata": {
        "id": "8G5hDTDStKzf"
      },
      "execution_count": null,
      "outputs": []
    },
    {
      "cell_type": "code",
      "source": [
        "import numpy as np\n",
        "import pandas as pd\n",
        "\n",
        "# Configurar a semente para reproduzibilidade\n",
        "np.random.seed(1)\n",
        "\n",
        "# Filtrar os dados\n",
        "DfRnn = BDadosRNN[['Timestamp', 'Value', 'TagComp']] \\\n",
        "    .query('Tag == \"Temperature\" & TagComp == \"BoomCylinder_LD\"') \\\n",
        "    .reset_index(drop=True)\n",
        "\n",
        "# Preparação dos dados\n",
        "periodos_anteriores = 3\n",
        "n_col = DfRnn.shape[1]\n",
        "\n",
        "# Criar colunas adicionais para os períodos anteriores\n",
        "for i in range(1, periodos_anteriores + 1):\n",
        "    DfRnn[f'x_{i}'] = DfRnn['Value'].shift(i)\n",
        "\n",
        "# Remover as primeiras linhas onde os períodos anteriores não estão disponíveis\n",
        "DfRnn = DfRnn.iloc[periodos_anteriores:, :].reset_index(drop=True)\n",
        "\n",
        "# Renomear as colunas\n",
        "DfRnn.columns = [\"y\"] + [f\"x_{i}\" for i in range(1, periodos_anteriores + 1)]\n",
        "\n",
        "# Visualizar o DataFrame resultante\n",
        "print(DfRnn.head())\n"
      ],
      "metadata": {
        "id": "ROb0z5kauCuz"
      },
      "execution_count": null,
      "outputs": []
    },
    {
      "cell_type": "markdown",
      "source": [
        "Normalização dos dados do Data Frame BoomCylinder_LD\n"
      ],
      "metadata": {
        "id": "-k35pFDMuFhh"
      }
    },
    {
      "cell_type": "code",
      "source": [
        "import numpy as np\n",
        "import pandas as pd\n",
        "\n",
        "# Configurar a semente para reproduzibilidade\n",
        "np.random.seed(1)\n",
        "\n",
        "# Normalização MinMax\n",
        "def normalize(x):\n",
        "    return (x - np.min(x)) / (np.max(x) - np.min(x))\n",
        "\n",
        "# Aplicar a normalização\n",
        "DFRnnNorm = pd.DataFrame({\n",
        "    'Y': normalize(DfRnn['y']),\n",
        "    'X_1': normalize(DfRnn['x_1']),\n",
        "    'X_2': normalize(DfRnn['x_2']),\n",
        "    'X_3': normalize(DfRnn['x_3'])\n",
        "})\n",
        "\n",
        "# Dividir em conjuntos de treino e teste\n",
        "Y_array = DFRnnNorm['Y'].values[:-500].reshape(-1, 1)\n",
        "X_array = DFRnnNorm[['X_1', 'X_2', 'X_3']].values[:-500].reshape(-1, 1, 3)\n"
      ],
      "metadata": {
        "id": "gIwhB9cUuIqN"
      },
      "execution_count": null,
      "outputs": []
    },
    {
      "cell_type": "markdown",
      "source": [
        "### 5.1 Results Rede Neutal (RNN)\n"
      ],
      "metadata": {
        "id": "oxWtQWDSuafl"
      }
    },
    {
      "cell_type": "code",
      "source": [
        "import time\n",
        "\n",
        "# Sua rotina ou código aqui\n",
        "# Por exemplo, uma operação demorada ou uma função que você deseja medir\n",
        "start_time = time.time()\n",
        "\n",
        "# Substitua o código abaixo pela sua operação demorada\n",
        "TreinDfRnn_scaled = trainr(Y_array, X_array,\n",
        "                           hidden_dim=10,\n",
        "                           learningrate=0.5,\n",
        "                           network_type=\"rnn\",\n",
        "                           numepochs=15)\n",
        "\n",
        "for i in range(1, 1000000):\n",
        "    np.sqrt(i)\n",
        "\n",
        "# Medir o tempo total\n",
        "end_time = time.time()\n",
        "total_time = (end_time - start_time) / 60 * -1\n",
        "\n",
        "print(f'Tempo total: {round(total_time, 2)} Min')\n"
      ],
      "metadata": {
        "id": "7-xL2iNVurPX"
      },
      "execution_count": null,
      "outputs": []
    },
    {
      "cell_type": "code",
      "source": [
        "import matplotlib.pyplot as plt\n",
        "import numpy as np\n",
        "\n",
        "# Se você não tiver a biblioteca ggplot2 instalada, instale-a com:\n",
        "# pip install plotnine\n",
        "\n",
        "# Substitua os dados pelos dados reais da sua execução\n",
        "epoch = np.arange(5, len(TreinDfRnn_scaled.error) + 5)\n",
        "error = TreinDfRnn_scaled.error[5:15]\n",
        "\n",
        "# Criar o gráfico\n",
        "plt.plot(epoch, error, color='red')\n",
        "plt.xlabel('Epoch')\n",
        "plt.ylabel('Error')\n",
        "plt.xticks(np.arange(0, 16, step=10))\n",
        "\n",
        "# Salvar o gráfico\n",
        "plt.savefig('D:/RNN_Sensor Dynamox/Git Repositório/rnn-component-lIfe-cycle/Ln0_5 Epoch15_hidden_dim10.png')\n",
        "plt.show()\n"
      ],
      "metadata": {
        "id": "p5M9gkOJu6GU"
      },
      "execution_count": null,
      "outputs": []
    },
    {
      "cell_type": "markdown",
      "source": [
        "Desnormalizando o Df\n"
      ],
      "metadata": {
        "id": "3-P0oktlu_44"
      }
    },
    {
      "cell_type": "code",
      "source": [
        "import pandas as pd\n",
        "import numpy as np\n",
        "import matplotlib.pyplot as plt\n",
        "\n",
        "# Supondo que você já tenha os dados em 'DFRnnDesNorm' e 'entrada_h'\n",
        "# Substitua esses dados pelos dados reais da sua execução\n",
        "entrada_h = np.array([DFRnnNorm['X_1'][-500:], DFRnnNorm['X_2'][-500:], DFRnnNorm['X_3'][-500:]]).T.reshape(-1, 1, 3)\n",
        "pred_new1 = predictr(TreinDfRnn_scaled, entrada_h, hidden=False, real_output=True)\n",
        "pred_old1 = predictr(TreinDfRnn_scaled, X_array, hidden=False, real_output=True)\n",
        "\n",
        "# Revertendo a normalização das previsões\n",
        "pred_new1Y_NewDesnorm = pred_new1 * (max - min) + min\n",
        "pred_old1Y_OldDesnorm = pred_old1 * (max - min) + min\n",
        "\n",
        "# Criando o DataFrame equivalente ao 'FinalResult'\n",
        "final_result = pd.DataFrame({\n",
        "    'id': np.concatenate([np.arange(1, 7501), np.arange(7501, 7501 + len(pred_new1Y_NewDesnorm))]),\n",
        "    'var': np.concatenate([['real'] * 7500, ['new'] * len(pred_new1Y_NewDesnorm)]),\n",
        "    'value': np.concatenate([DFRnn['y'][:7500], pred_new1Y_NewDesnorm])\n",
        "})\n",
        "\n",
        "# Criando o gráfico\n",
        "plt.figure(figsize=(10, 6))\n",
        "plt.plot(final_result[final_result['var'] == 'real']['id'], final_result[final_result['var'] == 'real']['value'], color='red', label='Real')\n",
        "plt.plot(final_result[final_result['var'] == 'new']['id'], final_result[final_result['var'] == 'new']['value'], color='blue', label='New Prediction')\n",
        "plt.legend()\n",
        "plt.xlabel('id')\n",
        "plt.ylabel('value')\n",
        "plt.show()\n"
      ],
      "metadata": {
        "id": "FmdnjzXhvFVr"
      },
      "execution_count": null,
      "outputs": []
    },
    {
      "cell_type": "markdown",
      "source": [
        "\n",
        "### 5.2 Results Long Short Term Memory (LSTM)\n",
        "\n",
        "LSTM Network in R"
      ],
      "metadata": {
        "id": "ImLPf1sWvJ61"
      }
    }
  ]
}